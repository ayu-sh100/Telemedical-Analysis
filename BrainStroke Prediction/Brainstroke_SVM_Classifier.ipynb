{
 "cells": [
  {
   "cell_type": "code",
   "execution_count": 1,
   "id": "8d2e9373",
   "metadata": {},
   "outputs": [],
   "source": [
    "import pandas as pd\n",
    "import numpy as np\n",
    "import seaborn as sns\n",
    "import matplotlib.pyplot as plt"
   ]
  },
  {
   "cell_type": "code",
   "execution_count": 34,
   "id": "63f21c8f",
   "metadata": {},
   "outputs": [],
   "source": [
    "from sklearn.model_selection import train_test_split\n",
    "from sklearn.preprocessing import StandardScaler\n",
    "from sklearn import svm\n",
    "from sklearn.metrics import mean_absolute_error, mean_squared_error, r2_score, accuracy_score, confusion_matrix\n",
    "from sklearn.metrics import ConfusionMatrixDisplay, classification_report"
   ]
  },
  {
   "cell_type": "code",
   "execution_count": 3,
   "id": "56ed99a0",
   "metadata": {},
   "outputs": [],
   "source": [
    "df = pd.read_excel(r'C:\\Users\\KIIT\\OneDrive\\Documents\\Project n Paper\\BrainStroke Prediction\\usefile.xlsx')"
   ]
  },
  {
   "cell_type": "code",
   "execution_count": 4,
   "id": "42c48c1e",
   "metadata": {},
   "outputs": [
    {
     "data": {
      "text/html": [
       "<div>\n",
       "<style scoped>\n",
       "    .dataframe tbody tr th:only-of-type {\n",
       "        vertical-align: middle;\n",
       "    }\n",
       "\n",
       "    .dataframe tbody tr th {\n",
       "        vertical-align: top;\n",
       "    }\n",
       "\n",
       "    .dataframe thead th {\n",
       "        text-align: right;\n",
       "    }\n",
       "</style>\n",
       "<table border=\"1\" class=\"dataframe\">\n",
       "  <thead>\n",
       "    <tr style=\"text-align: right;\">\n",
       "      <th></th>\n",
       "      <th>Gender Index</th>\n",
       "      <th>Age</th>\n",
       "      <th>Hypertension</th>\n",
       "      <th>Heart Disease</th>\n",
       "      <th>Martial Status</th>\n",
       "      <th>Work Type Index</th>\n",
       "      <th>Residence Type</th>\n",
       "      <th>Average Glucose Level</th>\n",
       "      <th>BMI</th>\n",
       "      <th>Smoking Status Index</th>\n",
       "      <th>Stroke</th>\n",
       "    </tr>\n",
       "  </thead>\n",
       "  <tbody>\n",
       "    <tr>\n",
       "      <th>0</th>\n",
       "      <td>0</td>\n",
       "      <td>3.0</td>\n",
       "      <td>0</td>\n",
       "      <td>0</td>\n",
       "      <td>0</td>\n",
       "      <td>0</td>\n",
       "      <td>0</td>\n",
       "      <td>95.12</td>\n",
       "      <td>18.0</td>\n",
       "      <td>0</td>\n",
       "      <td>0</td>\n",
       "    </tr>\n",
       "    <tr>\n",
       "      <th>1</th>\n",
       "      <td>0</td>\n",
       "      <td>58.0</td>\n",
       "      <td>1</td>\n",
       "      <td>0</td>\n",
       "      <td>1</td>\n",
       "      <td>2</td>\n",
       "      <td>1</td>\n",
       "      <td>87.96</td>\n",
       "      <td>39.2</td>\n",
       "      <td>0</td>\n",
       "      <td>0</td>\n",
       "    </tr>\n",
       "    <tr>\n",
       "      <th>2</th>\n",
       "      <td>1</td>\n",
       "      <td>8.0</td>\n",
       "      <td>0</td>\n",
       "      <td>0</td>\n",
       "      <td>0</td>\n",
       "      <td>2</td>\n",
       "      <td>1</td>\n",
       "      <td>110.89</td>\n",
       "      <td>17.6</td>\n",
       "      <td>0</td>\n",
       "      <td>0</td>\n",
       "    </tr>\n",
       "    <tr>\n",
       "      <th>3</th>\n",
       "      <td>1</td>\n",
       "      <td>70.0</td>\n",
       "      <td>0</td>\n",
       "      <td>0</td>\n",
       "      <td>1</td>\n",
       "      <td>2</td>\n",
       "      <td>0</td>\n",
       "      <td>69.04</td>\n",
       "      <td>35.9</td>\n",
       "      <td>1</td>\n",
       "      <td>0</td>\n",
       "    </tr>\n",
       "    <tr>\n",
       "      <th>4</th>\n",
       "      <td>1</td>\n",
       "      <td>47.0</td>\n",
       "      <td>0</td>\n",
       "      <td>0</td>\n",
       "      <td>1</td>\n",
       "      <td>2</td>\n",
       "      <td>1</td>\n",
       "      <td>210.95</td>\n",
       "      <td>50.1</td>\n",
       "      <td>0</td>\n",
       "      <td>0</td>\n",
       "    </tr>\n",
       "    <tr>\n",
       "      <th>5</th>\n",
       "      <td>0</td>\n",
       "      <td>14.0</td>\n",
       "      <td>0</td>\n",
       "      <td>0</td>\n",
       "      <td>0</td>\n",
       "      <td>1</td>\n",
       "      <td>0</td>\n",
       "      <td>161.28</td>\n",
       "      <td>19.1</td>\n",
       "      <td>0</td>\n",
       "      <td>0</td>\n",
       "    </tr>\n",
       "    <tr>\n",
       "      <th>6</th>\n",
       "      <td>1</td>\n",
       "      <td>52.0</td>\n",
       "      <td>0</td>\n",
       "      <td>0</td>\n",
       "      <td>1</td>\n",
       "      <td>2</td>\n",
       "      <td>1</td>\n",
       "      <td>77.59</td>\n",
       "      <td>17.7</td>\n",
       "      <td>1</td>\n",
       "      <td>0</td>\n",
       "    </tr>\n",
       "    <tr>\n",
       "      <th>7</th>\n",
       "      <td>1</td>\n",
       "      <td>75.0</td>\n",
       "      <td>0</td>\n",
       "      <td>1</td>\n",
       "      <td>1</td>\n",
       "      <td>3</td>\n",
       "      <td>0</td>\n",
       "      <td>243.53</td>\n",
       "      <td>27.0</td>\n",
       "      <td>0</td>\n",
       "      <td>0</td>\n",
       "    </tr>\n",
       "    <tr>\n",
       "      <th>8</th>\n",
       "      <td>1</td>\n",
       "      <td>32.0</td>\n",
       "      <td>0</td>\n",
       "      <td>0</td>\n",
       "      <td>1</td>\n",
       "      <td>2</td>\n",
       "      <td>0</td>\n",
       "      <td>77.67</td>\n",
       "      <td>32.3</td>\n",
       "      <td>2</td>\n",
       "      <td>0</td>\n",
       "    </tr>\n",
       "    <tr>\n",
       "      <th>9</th>\n",
       "      <td>1</td>\n",
       "      <td>74.0</td>\n",
       "      <td>1</td>\n",
       "      <td>0</td>\n",
       "      <td>1</td>\n",
       "      <td>3</td>\n",
       "      <td>1</td>\n",
       "      <td>205.84</td>\n",
       "      <td>54.6</td>\n",
       "      <td>0</td>\n",
       "      <td>0</td>\n",
       "    </tr>\n",
       "  </tbody>\n",
       "</table>\n",
       "</div>"
      ],
      "text/plain": [
       "   Gender Index   Age  Hypertension  Heart Disease  Martial Status  \\\n",
       "0             0   3.0             0              0               0   \n",
       "1             0  58.0             1              0               1   \n",
       "2             1   8.0             0              0               0   \n",
       "3             1  70.0             0              0               1   \n",
       "4             1  47.0             0              0               1   \n",
       "5             0  14.0             0              0               0   \n",
       "6             1  52.0             0              0               1   \n",
       "7             1  75.0             0              1               1   \n",
       "8             1  32.0             0              0               1   \n",
       "9             1  74.0             1              0               1   \n",
       "\n",
       "   Work Type Index  Residence Type  Average Glucose Level   BMI  \\\n",
       "0                0               0                  95.12  18.0   \n",
       "1                2               1                  87.96  39.2   \n",
       "2                2               1                 110.89  17.6   \n",
       "3                2               0                  69.04  35.9   \n",
       "4                2               1                 210.95  50.1   \n",
       "5                1               0                 161.28  19.1   \n",
       "6                2               1                  77.59  17.7   \n",
       "7                3               0                 243.53  27.0   \n",
       "8                2               0                  77.67  32.3   \n",
       "9                3               1                 205.84  54.6   \n",
       "\n",
       "   Smoking Status Index  Stroke  \n",
       "0                     0       0  \n",
       "1                     0       0  \n",
       "2                     0       0  \n",
       "3                     1       0  \n",
       "4                     0       0  \n",
       "5                     0       0  \n",
       "6                     1       0  \n",
       "7                     0       0  \n",
       "8                     2       0  \n",
       "9                     0       0  "
      ]
     },
     "execution_count": 4,
     "metadata": {},
     "output_type": "execute_result"
    }
   ],
   "source": [
    "df.head(10)"
   ]
  },
  {
   "cell_type": "code",
   "execution_count": 5,
   "id": "13967ea4",
   "metadata": {},
   "outputs": [
    {
     "data": {
      "text/html": [
       "<div>\n",
       "<style scoped>\n",
       "    .dataframe tbody tr th:only-of-type {\n",
       "        vertical-align: middle;\n",
       "    }\n",
       "\n",
       "    .dataframe tbody tr th {\n",
       "        vertical-align: top;\n",
       "    }\n",
       "\n",
       "    .dataframe thead th {\n",
       "        text-align: right;\n",
       "    }\n",
       "</style>\n",
       "<table border=\"1\" class=\"dataframe\">\n",
       "  <thead>\n",
       "    <tr style=\"text-align: right;\">\n",
       "      <th></th>\n",
       "      <th>Gender Index</th>\n",
       "      <th>Age</th>\n",
       "      <th>Hypertension</th>\n",
       "      <th>Heart Disease</th>\n",
       "      <th>Martial Status</th>\n",
       "      <th>Work Type Index</th>\n",
       "      <th>Residence Type</th>\n",
       "      <th>Average Glucose Level</th>\n",
       "      <th>BMI</th>\n",
       "      <th>Smoking Status Index</th>\n",
       "      <th>Stroke</th>\n",
       "    </tr>\n",
       "  </thead>\n",
       "  <tbody>\n",
       "    <tr>\n",
       "      <th>count</th>\n",
       "      <td>43400.000000</td>\n",
       "      <td>43400.000000</td>\n",
       "      <td>43400.000000</td>\n",
       "      <td>43400.000000</td>\n",
       "      <td>43400.000000</td>\n",
       "      <td>43400.000000</td>\n",
       "      <td>43400.000000</td>\n",
       "      <td>43400.000000</td>\n",
       "      <td>43400.000000</td>\n",
       "      <td>43400.000000</td>\n",
       "      <td>43400.000000</td>\n",
       "    </tr>\n",
       "    <tr>\n",
       "      <th>mean</th>\n",
       "      <td>0.591866</td>\n",
       "      <td>42.217894</td>\n",
       "      <td>0.093571</td>\n",
       "      <td>0.047512</td>\n",
       "      <td>0.643733</td>\n",
       "      <td>2.119447</td>\n",
       "      <td>0.501290</td>\n",
       "      <td>104.482750</td>\n",
       "      <td>28.574551</td>\n",
       "      <td>0.475046</td>\n",
       "      <td>0.018041</td>\n",
       "    </tr>\n",
       "    <tr>\n",
       "      <th>std</th>\n",
       "      <td>0.492009</td>\n",
       "      <td>22.519649</td>\n",
       "      <td>0.291235</td>\n",
       "      <td>0.212733</td>\n",
       "      <td>0.478901</td>\n",
       "      <td>1.102323</td>\n",
       "      <td>0.500004</td>\n",
       "      <td>43.111751</td>\n",
       "      <td>7.639769</td>\n",
       "      <td>0.742823</td>\n",
       "      <td>0.133103</td>\n",
       "    </tr>\n",
       "    <tr>\n",
       "      <th>min</th>\n",
       "      <td>0.000000</td>\n",
       "      <td>0.080000</td>\n",
       "      <td>0.000000</td>\n",
       "      <td>0.000000</td>\n",
       "      <td>0.000000</td>\n",
       "      <td>0.000000</td>\n",
       "      <td>0.000000</td>\n",
       "      <td>55.000000</td>\n",
       "      <td>10.100000</td>\n",
       "      <td>0.000000</td>\n",
       "      <td>0.000000</td>\n",
       "    </tr>\n",
       "    <tr>\n",
       "      <th>25%</th>\n",
       "      <td>0.000000</td>\n",
       "      <td>24.000000</td>\n",
       "      <td>0.000000</td>\n",
       "      <td>0.000000</td>\n",
       "      <td>0.000000</td>\n",
       "      <td>2.000000</td>\n",
       "      <td>0.000000</td>\n",
       "      <td>77.540000</td>\n",
       "      <td>23.400000</td>\n",
       "      <td>0.000000</td>\n",
       "      <td>0.000000</td>\n",
       "    </tr>\n",
       "    <tr>\n",
       "      <th>50%</th>\n",
       "      <td>1.000000</td>\n",
       "      <td>44.000000</td>\n",
       "      <td>0.000000</td>\n",
       "      <td>0.000000</td>\n",
       "      <td>1.000000</td>\n",
       "      <td>2.000000</td>\n",
       "      <td>1.000000</td>\n",
       "      <td>91.580000</td>\n",
       "      <td>27.700000</td>\n",
       "      <td>0.000000</td>\n",
       "      <td>0.000000</td>\n",
       "    </tr>\n",
       "    <tr>\n",
       "      <th>75%</th>\n",
       "      <td>1.000000</td>\n",
       "      <td>60.000000</td>\n",
       "      <td>0.000000</td>\n",
       "      <td>0.000000</td>\n",
       "      <td>1.000000</td>\n",
       "      <td>3.000000</td>\n",
       "      <td>1.000000</td>\n",
       "      <td>112.070000</td>\n",
       "      <td>32.600000</td>\n",
       "      <td>1.000000</td>\n",
       "      <td>0.000000</td>\n",
       "    </tr>\n",
       "    <tr>\n",
       "      <th>max</th>\n",
       "      <td>2.000000</td>\n",
       "      <td>82.000000</td>\n",
       "      <td>1.000000</td>\n",
       "      <td>1.000000</td>\n",
       "      <td>1.000000</td>\n",
       "      <td>4.000000</td>\n",
       "      <td>1.000000</td>\n",
       "      <td>291.050000</td>\n",
       "      <td>97.600000</td>\n",
       "      <td>2.000000</td>\n",
       "      <td>1.000000</td>\n",
       "    </tr>\n",
       "  </tbody>\n",
       "</table>\n",
       "</div>"
      ],
      "text/plain": [
       "       Gender Index           Age  Hypertension  Heart Disease  \\\n",
       "count  43400.000000  43400.000000  43400.000000   43400.000000   \n",
       "mean       0.591866     42.217894      0.093571       0.047512   \n",
       "std        0.492009     22.519649      0.291235       0.212733   \n",
       "min        0.000000      0.080000      0.000000       0.000000   \n",
       "25%        0.000000     24.000000      0.000000       0.000000   \n",
       "50%        1.000000     44.000000      0.000000       0.000000   \n",
       "75%        1.000000     60.000000      0.000000       0.000000   \n",
       "max        2.000000     82.000000      1.000000       1.000000   \n",
       "\n",
       "       Martial Status  Work Type Index  Residence Type  Average Glucose Level  \\\n",
       "count    43400.000000     43400.000000    43400.000000           43400.000000   \n",
       "mean         0.643733         2.119447        0.501290             104.482750   \n",
       "std          0.478901         1.102323        0.500004              43.111751   \n",
       "min          0.000000         0.000000        0.000000              55.000000   \n",
       "25%          0.000000         2.000000        0.000000              77.540000   \n",
       "50%          1.000000         2.000000        1.000000              91.580000   \n",
       "75%          1.000000         3.000000        1.000000             112.070000   \n",
       "max          1.000000         4.000000        1.000000             291.050000   \n",
       "\n",
       "                BMI  Smoking Status Index        Stroke  \n",
       "count  43400.000000          43400.000000  43400.000000  \n",
       "mean      28.574551              0.475046      0.018041  \n",
       "std        7.639769              0.742823      0.133103  \n",
       "min       10.100000              0.000000      0.000000  \n",
       "25%       23.400000              0.000000      0.000000  \n",
       "50%       27.700000              0.000000      0.000000  \n",
       "75%       32.600000              1.000000      0.000000  \n",
       "max       97.600000              2.000000      1.000000  "
      ]
     },
     "execution_count": 5,
     "metadata": {},
     "output_type": "execute_result"
    }
   ],
   "source": [
    "df.describe()"
   ]
  },
  {
   "cell_type": "code",
   "execution_count": 6,
   "id": "0440ad92",
   "metadata": {},
   "outputs": [
    {
     "data": {
      "text/plain": [
       "Gender Index             0\n",
       "Age                      0\n",
       "Hypertension             0\n",
       "Heart Disease            0\n",
       "Martial Status           0\n",
       "Work Type Index          0\n",
       "Residence Type           0\n",
       "Average Glucose Level    0\n",
       "BMI                      0\n",
       "Smoking Status Index     0\n",
       "Stroke                   0\n",
       "dtype: int64"
      ]
     },
     "execution_count": 6,
     "metadata": {},
     "output_type": "execute_result"
    }
   ],
   "source": [
    "df.isnull().sum()"
   ]
  },
  {
   "cell_type": "code",
   "execution_count": 7,
   "id": "cfed5e07",
   "metadata": {},
   "outputs": [
    {
     "data": {
      "text/plain": [
       "<AxesSubplot:>"
      ]
     },
     "execution_count": 7,
     "metadata": {},
     "output_type": "execute_result"
    },
    {
     "data": {
      "image/png": "[encoded data removed]",
      "text/plain": [
       "<Figure size 2160x720 with 2 Axes>"
      ]
     },
     "metadata": {
      "needs_background": "light"
     },
     "output_type": "display_data"
    }
   ],
   "source": [
    "plt.rcParams['figure.figsize'] = (30,10)\n",
    "sns.heatmap(data=df.corr(),annot=True,fmt='.2f',cmap='Blues')"
   ]
  },
  {
   "cell_type": "code",
   "execution_count": 8,
   "id": "ef952fc6",
   "metadata": {},
   "outputs": [
    {
     "data": {
      "text/plain": [
       "(43400, 11)"
      ]
     },
     "execution_count": 8,
     "metadata": {},
     "output_type": "execute_result"
    }
   ],
   "source": [
    "df.shape"
   ]
  },
  {
   "cell_type": "code",
   "execution_count": 9,
   "id": "2c2959b2",
   "metadata": {},
   "outputs": [
    {
     "data": {
      "text/plain": [
       "0    42617\n",
       "1      783\n",
       "Name: Stroke, dtype: int64"
      ]
     },
     "execution_count": 9,
     "metadata": {},
     "output_type": "execute_result"
    }
   ],
   "source": [
    "df['Stroke'].value_counts()"
   ]
  },
  {
   "cell_type": "code",
   "execution_count": 10,
   "id": "00fd3626",
   "metadata": {},
   "outputs": [
    {
     "data": {
      "text/plain": [
       "Gender Index               int64\n",
       "Age                      float64\n",
       "Hypertension               int64\n",
       "Heart Disease              int64\n",
       "Martial Status             int64\n",
       "Work Type Index            int64\n",
       "Residence Type             int64\n",
       "Average Glucose Level    float64\n",
       "BMI                      float64\n",
       "Smoking Status Index       int64\n",
       "Stroke                     int64\n",
       "dtype: object"
      ]
     },
     "execution_count": 10,
     "metadata": {},
     "output_type": "execute_result"
    }
   ],
   "source": [
    "df.dtypes"
   ]
  },
  {
   "cell_type": "markdown",
   "id": "f27af178",
   "metadata": {},
   "source": [
    "## Split in Train,Test "
   ]
  },
  {
   "cell_type": "code",
   "execution_count": 11,
   "id": "f03be5e1",
   "metadata": {},
   "outputs": [
    {
     "data": {
      "text/html": [
       "<div>\n",
       "<style scoped>\n",
       "    .dataframe tbody tr th:only-of-type {\n",
       "        vertical-align: middle;\n",
       "    }\n",
       "\n",
       "    .dataframe tbody tr th {\n",
       "        vertical-align: top;\n",
       "    }\n",
       "\n",
       "    .dataframe thead th {\n",
       "        text-align: right;\n",
       "    }\n",
       "</style>\n",
       "<table border=\"1\" class=\"dataframe\">\n",
       "  <thead>\n",
       "    <tr style=\"text-align: right;\">\n",
       "      <th></th>\n",
       "      <th>Gender Index</th>\n",
       "      <th>Age</th>\n",
       "      <th>Hypertension</th>\n",
       "      <th>Heart Disease</th>\n",
       "      <th>Martial Status</th>\n",
       "      <th>Work Type Index</th>\n",
       "      <th>Residence Type</th>\n",
       "      <th>Average Glucose Level</th>\n",
       "      <th>BMI</th>\n",
       "      <th>Smoking Status Index</th>\n",
       "    </tr>\n",
       "  </thead>\n",
       "  <tbody>\n",
       "    <tr>\n",
       "      <th>0</th>\n",
       "      <td>0</td>\n",
       "      <td>3.0</td>\n",
       "      <td>0</td>\n",
       "      <td>0</td>\n",
       "      <td>0</td>\n",
       "      <td>0</td>\n",
       "      <td>0</td>\n",
       "      <td>95.12</td>\n",
       "      <td>18.0</td>\n",
       "      <td>0</td>\n",
       "    </tr>\n",
       "    <tr>\n",
       "      <th>1</th>\n",
       "      <td>0</td>\n",
       "      <td>58.0</td>\n",
       "      <td>1</td>\n",
       "      <td>0</td>\n",
       "      <td>1</td>\n",
       "      <td>2</td>\n",
       "      <td>1</td>\n",
       "      <td>87.96</td>\n",
       "      <td>39.2</td>\n",
       "      <td>0</td>\n",
       "    </tr>\n",
       "    <tr>\n",
       "      <th>2</th>\n",
       "      <td>1</td>\n",
       "      <td>8.0</td>\n",
       "      <td>0</td>\n",
       "      <td>0</td>\n",
       "      <td>0</td>\n",
       "      <td>2</td>\n",
       "      <td>1</td>\n",
       "      <td>110.89</td>\n",
       "      <td>17.6</td>\n",
       "      <td>0</td>\n",
       "    </tr>\n",
       "    <tr>\n",
       "      <th>3</th>\n",
       "      <td>1</td>\n",
       "      <td>70.0</td>\n",
       "      <td>0</td>\n",
       "      <td>0</td>\n",
       "      <td>1</td>\n",
       "      <td>2</td>\n",
       "      <td>0</td>\n",
       "      <td>69.04</td>\n",
       "      <td>35.9</td>\n",
       "      <td>1</td>\n",
       "    </tr>\n",
       "    <tr>\n",
       "      <th>4</th>\n",
       "      <td>1</td>\n",
       "      <td>47.0</td>\n",
       "      <td>0</td>\n",
       "      <td>0</td>\n",
       "      <td>1</td>\n",
       "      <td>2</td>\n",
       "      <td>1</td>\n",
       "      <td>210.95</td>\n",
       "      <td>50.1</td>\n",
       "      <td>0</td>\n",
       "    </tr>\n",
       "  </tbody>\n",
       "</table>\n",
       "</div>"
      ],
      "text/plain": [
       "   Gender Index   Age  Hypertension  Heart Disease  Martial Status  \\\n",
       "0             0   3.0             0              0               0   \n",
       "1             0  58.0             1              0               1   \n",
       "2             1   8.0             0              0               0   \n",
       "3             1  70.0             0              0               1   \n",
       "4             1  47.0             0              0               1   \n",
       "\n",
       "   Work Type Index  Residence Type  Average Glucose Level   BMI  \\\n",
       "0                0               0                  95.12  18.0   \n",
       "1                2               1                  87.96  39.2   \n",
       "2                2               1                 110.89  17.6   \n",
       "3                2               0                  69.04  35.9   \n",
       "4                2               1                 210.95  50.1   \n",
       "\n",
       "   Smoking Status Index  \n",
       "0                     0  \n",
       "1                     0  \n",
       "2                     0  \n",
       "3                     1  \n",
       "4                     0  "
      ]
     },
     "execution_count": 11,
     "metadata": {},
     "output_type": "execute_result"
    }
   ],
   "source": [
    "X = df.drop('Stroke',axis=1)\n",
    "X.head(5)"
   ]
  },
  {
   "cell_type": "code",
   "execution_count": 12,
   "id": "59c6d228",
   "metadata": {},
   "outputs": [
    {
     "data": {
      "text/plain": [
       "0    0\n",
       "1    0\n",
       "2    0\n",
       "3    0\n",
       "4    0\n",
       "Name: Stroke, dtype: int64"
      ]
     },
     "execution_count": 12,
     "metadata": {},
     "output_type": "execute_result"
    }
   ],
   "source": [
    "y = df['Stroke']\n",
    "y.head(5)"
   ]
  },
  {
   "cell_type": "code",
   "execution_count": 13,
   "id": "b98fa5cf",
   "metadata": {},
   "outputs": [],
   "source": [
    "X_train,X_test,y_train,y_test = train_test_split(X,y,random_state = 0, test_size = 0.2)"
   ]
  },
  {
   "cell_type": "code",
   "execution_count": 14,
   "id": "640ddc66",
   "metadata": {},
   "outputs": [
    {
     "data": {
      "text/plain": [
       "(34720, 10)"
      ]
     },
     "execution_count": 14,
     "metadata": {},
     "output_type": "execute_result"
    }
   ],
   "source": [
    "X_train.shape"
   ]
  },
  {
   "cell_type": "code",
   "execution_count": 15,
   "id": "f3ab1dae",
   "metadata": {},
   "outputs": [
    {
     "data": {
      "text/plain": [
       "(8680, 10)"
      ]
     },
     "execution_count": 15,
     "metadata": {},
     "output_type": "execute_result"
    }
   ],
   "source": [
    "X_test.shape"
   ]
  },
  {
   "cell_type": "code",
   "execution_count": 16,
   "id": "9f9179c6",
   "metadata": {},
   "outputs": [],
   "source": [
    "sc = StandardScaler()\n",
    "X_train_scaled = sc.fit_transform(X_train)\n",
    "X_test_scaled = sc.fit_transform(X_test)"
   ]
  },
  {
   "cell_type": "code",
   "execution_count": 17,
   "id": "0d9ae628",
   "metadata": {},
   "outputs": [
    {
     "data": {
      "text/plain": [
       "array([[ 0.82969259,  1.32213599, -0.3222331 , ..., -0.71882026,\n",
       "        -0.6875417 ,  0.71218423],\n",
       "       [ 0.82969259, -0.93854822, -0.3222331 , ..., -0.39099967,\n",
       "        -1.41014335, -0.63806076],\n",
       "       [-1.20239874,  1.5437717 , -0.3222331 , ..., -0.90813491,\n",
       "        -0.10946038,  0.71218423],\n",
       "       ...,\n",
       "       [ 0.82969259,  1.76540741, -0.3222331 , ..., -1.04803287,\n",
       "        -0.63498885,  0.71218423],\n",
       "       [-1.20239874,  0.56857459, -0.3222331 , ..., -0.03255466,\n",
       "         1.19122259, -0.63806076],\n",
       "       [ 0.82969259,  1.36646313,  3.10334351, ..., -0.85895022,\n",
       "         0.56058843,  0.71218423]])"
      ]
     },
     "execution_count": 17,
     "metadata": {},
     "output_type": "execute_result"
    }
   ],
   "source": [
    "X_train_scaled"
   ]
  },
  {
   "cell_type": "code",
   "execution_count": 18,
   "id": "b027486f",
   "metadata": {},
   "outputs": [
    {
     "data": {
      "text/plain": [
       "array([[ 0.82889999,  1.77139637, -0.3175285 , ..., -0.97004291,\n",
       "         0.39483603, -0.64540635],\n",
       "       [-1.20526793,  1.1899273 , -0.3175285 , ..., -0.66408654,\n",
       "         0.70452884, -0.64540635],\n",
       "       [ 0.82889999, -0.95703543, -0.3175285 , ..., -0.24640975,\n",
       "         0.4851631 ,  2.01593669],\n",
       "       ...,\n",
       "       [-1.20526793, -0.42029475,  3.14932358, ..., -0.45617529,\n",
       "         0.4851631 , -0.64540635],\n",
       "       [-1.20526793, -1.00176382, -0.3175285 , ..., -0.88428241,\n",
       "        -0.572954  , -0.64540635],\n",
       "       [-1.20526793,  0.29535949,  3.14932358, ..., -0.57577641,\n",
       "         1.67231888, -0.64540635]])"
      ]
     },
     "execution_count": 18,
     "metadata": {},
     "output_type": "execute_result"
    }
   ],
   "source": [
    "X_test_scaled"
   ]
  },
  {
   "cell_type": "markdown",
   "id": "e8ee8c19",
   "metadata": {},
   "source": [
    "## SVM  Modelling "
   ]
  },
  {
   "cell_type": "code",
   "execution_count": 19,
   "id": "2badba99",
   "metadata": {},
   "outputs": [],
   "source": [
    "#SVC : Classifier. (datapoints near to the hyperplane its perpendicular distance is found and summed up for all points \n",
    "#and maximised known as Support Vector Classifiers)\n",
    "#Hyperplane seggregates into classes"
   ]
  },
  {
   "cell_type": "code",
   "execution_count": 20,
   "id": "77c41de3",
   "metadata": {},
   "outputs": [],
   "source": [
    "#Kernel Function is a method used to take data as input and transform it into the required form of processing data"
   ]
  },
  {
   "cell_type": "code",
   "execution_count": 43,
   "id": "1b78ee6e",
   "metadata": {},
   "outputs": [
    {
     "data": {
      "text/plain": [
       "SVC(C=5, gamma='auto', kernel='poly')"
      ]
     },
     "execution_count": 43,
     "metadata": {},
     "output_type": "execute_result"
    }
   ],
   "source": [
    "#C : penalty in error function to optimise results\n",
    "svm_classifier = svm.SVC(kernel='poly', gamma='auto', C=5)\n",
    "svm_classifier"
   ]
  },
  {
   "cell_type": "code",
   "execution_count": 44,
   "id": "0d6adf6f",
   "metadata": {},
   "outputs": [
    {
     "data": {
      "text/plain": [
       "SVC(C=5, gamma='auto', kernel='poly')"
      ]
     },
     "execution_count": 44,
     "metadata": {},
     "output_type": "execute_result"
    }
   ],
   "source": [
    "svm_classifier.fit(X_train_scaled,y_train)"
   ]
  },
  {
   "cell_type": "code",
   "execution_count": 45,
   "id": "34248e32",
   "metadata": {},
   "outputs": [],
   "source": [
    "y_pred = svm_classifier.predict(X_test_scaled)"
   ]
  },
  {
   "cell_type": "code",
   "execution_count": 46,
   "id": "f5e43d99",
   "metadata": {},
   "outputs": [
    {
     "data": {
      "text/plain": [
       "36938    0\n",
       "25367    0\n",
       "32252    0\n",
       "34808    0\n",
       "15623    0\n",
       "        ..\n",
       "38339    0\n",
       "8543     0\n",
       "3365     0\n",
       "17860    0\n",
       "5890     0\n",
       "Name: Stroke, Length: 8680, dtype: int64"
      ]
     },
     "execution_count": 46,
     "metadata": {},
     "output_type": "execute_result"
    }
   ],
   "source": [
    "y_test"
   ]
  },
  {
   "cell_type": "code",
   "execution_count": 47,
   "id": "d8fdd9a2",
   "metadata": {},
   "outputs": [
    {
     "data": {
      "text/plain": [
       "array([0, 0, 0, ..., 0, 0, 0], dtype=int64)"
      ]
     },
     "execution_count": 47,
     "metadata": {},
     "output_type": "execute_result"
    }
   ],
   "source": [
    "y_pred"
   ]
  },
  {
   "cell_type": "markdown",
   "id": "e1890952",
   "metadata": {},
   "source": [
    "## Evaluation "
   ]
  },
  {
   "cell_type": "code",
   "execution_count": 48,
   "id": "25048fff",
   "metadata": {},
   "outputs": [
    {
     "data": {
      "text/plain": [
       "0.9846774193548387"
      ]
     },
     "execution_count": 48,
     "metadata": {},
     "output_type": "execute_result"
    }
   ],
   "source": [
    "svm_classifier.score(X_test_scaled,y_test)"
   ]
  },
  {
   "cell_type": "code",
   "execution_count": 49,
   "id": "072db61a",
   "metadata": {},
   "outputs": [
    {
     "data": {
      "text/plain": [
       "0.981278801843318"
      ]
     },
     "execution_count": 49,
     "metadata": {},
     "output_type": "execute_result"
    }
   ],
   "source": [
    "svm_classifier.score(X_train_scaled,y_train)"
   ]
  },
  {
   "cell_type": "markdown",
   "id": "169164d1",
   "metadata": {},
   "source": [
    "## SVM Classifier with kernels {Polynomial, Linear, Rbf} gives Train acc = 98.128 and Test acc = 98.468 \n",
    "## SVM with kernel {Sigmoid} gives Train acc = 96.60 and Test acc = 96.84 "
   ]
  },
  {
   "cell_type": "code",
   "execution_count": 50,
   "id": "80c800a9",
   "metadata": {},
   "outputs": [
    {
     "data": {
      "text/plain": [
       "array([[8547,    0],\n",
       "       [ 133,    0]], dtype=int64)"
      ]
     },
     "execution_count": 50,
     "metadata": {},
     "output_type": "execute_result"
    }
   ],
   "source": [
    "cm = confusion_matrix(y_test,y_pred)\n",
    "cm"
   ]
  },
  {
   "cell_type": "code",
   "execution_count": 51,
   "id": "24d138fe",
   "metadata": {},
   "outputs": [
    {
     "data": {
      "text/plain": [
       "<sklearn.metrics._plot.confusion_matrix.ConfusionMatrixDisplay at 0x19e0b3d09d0>"
      ]
     },
     "execution_count": 51,
     "metadata": {},
     "output_type": "execute_result"
    },
    {
     "data": {
      "image/png": "[encoded data removed]",
      "text/plain": [
       "<Figure size 360x360 with 2 Axes>"
      ]
     },
     "metadata": {
      "needs_background": "light"
     },
     "output_type": "display_data"
    }
   ],
   "source": [
    "plt.rcParams['figure.figsize'] = (5,5)\n",
    "plt.rcParams.update({'font.size': 16})\n",
    "disp = ConfusionMatrixDisplay(confusion_matrix=cm,display_labels=svm_classifier.classes_,)\n",
    "disp.plot(cmap='Greens')"
   ]
  },
  {
   "cell_type": "code",
   "execution_count": 52,
   "id": "6c6a5a95",
   "metadata": {},
   "outputs": [
    {
     "data": {
      "text/plain": [
       "0.9846774193548387"
      ]
     },
     "execution_count": 52,
     "metadata": {},
     "output_type": "execute_result"
    }
   ],
   "source": [
    "accuracy_score(y_test,y_pred)"
   ]
  },
  {
   "cell_type": "code",
   "execution_count": 53,
   "id": "cf53c3bc",
   "metadata": {},
   "outputs": [],
   "source": [
    "deg = range(2,20)\n",
    "test_score = []\n",
    "for x in deg:\n",
    "    svm_classifier = svm.SVC(kernel='poly', degree=x, gamma='auto', C=5)\n",
    "    svm_classifier.fit(X_train_scaled,y_train)\n",
    "    y_pred = svm_classifier.predict(X_test_scaled)\n",
    "    test_score.append(svm_classifier.score(X_test_scaled,y_test))"
   ]
  },
  {
   "cell_type": "code",
   "execution_count": 54,
   "id": "ff8ffb82",
   "metadata": {},
   "outputs": [
    {
     "name": "stdout",
     "output_type": "stream",
     "text": [
      "[98.47, 98.47, 98.42999999999999, 98.22999999999999, 98.02, 97.82, 97.78, 97.50999999999999, 97.33000000000001, 97.28999999999999, 97.17, 97.24000000000001, 97.24000000000001, 97.2, 97.11999999999999, 97.17, 97.2, 97.13000000000001]\n"
     ]
    }
   ],
   "source": [
    "test_score = [ 100* round(elem, 4) for elem in test_score ]\n",
    "print(test_score)"
   ]
  },
  {
   "cell_type": "code",
   "execution_count": 55,
   "id": "e400e8f3",
   "metadata": {},
   "outputs": [
    {
     "data": {
      "text/plain": [
       "<AxesSubplot:>"
      ]
     },
     "execution_count": 55,
     "metadata": {},
     "output_type": "execute_result"
    },
    {
     "data": {
      "image/png": "[encoded data removed]",
      "text/plain": [
       "<Figure size 360x360 with 1 Axes>"
      ]
     },
     "metadata": {
      "needs_background": "light"
     },
     "output_type": "display_data"
    }
   ],
   "source": [
    "sns.lineplot(x=deg,y=test_score)"
   ]
  },
  {
   "cell_type": "code",
   "execution_count": 56,
   "id": "20da97ac",
   "metadata": {},
   "outputs": [],
   "source": [
    "svm_classifier1 = svm.SVC(kernel='poly', degree=7, gamma='auto', C=5)\n",
    "svm_classifier1.fit(X_train_scaled,y_train)\n",
    "y_pred = svm_classifier1.predict(X_test_scaled)"
   ]
  },
  {
   "cell_type": "code",
   "execution_count": 57,
   "id": "4f716ee0",
   "metadata": {},
   "outputs": [
    {
     "data": {
      "text/plain": [
       "0.978225806451613"
      ]
     },
     "execution_count": 57,
     "metadata": {},
     "output_type": "execute_result"
    }
   ],
   "source": [
    "accuracy_score(y_test,y_pred)"
   ]
  },
  {
   "cell_type": "code",
   "execution_count": null,
   "id": "3bf34857",
   "metadata": {},
   "outputs": [],
   "source": []
  }
 ],
 "metadata": {
  "kernelspec": {
   "display_name": "Python 3 (ipykernel)",
   "language": "python",
   "name": "python3"
  },
  "language_info": {
   "codemirror_mode": {
    "name": "ipython",
    "version": 3
   },
   "file_extension": ".py",
   "mimetype": "text/x-python",
   "name": "python",
   "nbconvert_exporter": "python",
   "pygments_lexer": "ipython3",
   "version": "3.9.12"
  }
 },
 "nbformat": 4,
 "nbformat_minor": 5
}
